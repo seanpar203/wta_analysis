{
 "cells": [
  {
   "cell_type": "markdown",
   "metadata": {
    "collapsed": true
   },
   "source": [
    "## Get the top 5 users with the most time spent on the web."
   ]
  },
  {
   "cell_type": "code",
   "execution_count": 2,
   "metadata": {
    "collapsed": false
   },
   "outputs": [],
   "source": [
    "%matplotlib inline\n",
    "%load_ext sql\n",
    "%config SqlMagic.autolimit=5"
   ]
  },
  {
   "cell_type": "code",
   "execution_count": 3,
   "metadata": {
    "collapsed": false
   },
   "outputs": [],
   "source": [
    "import os\n",
    "\n",
    "# sqlalchemy Imports\n",
    "from sqlalchemy import (\n",
    "    create_engine, MetaData, Table, select\n",
    ")\n",
    "from sqlalchemy.sql import func, desc\n",
    "from sqlalchemy.engine import Connection\n",
    "from sqlalchemy.sql.expression import join\n",
    "\n",
    "# Graphing Imports\n",
    "import numpy as np\n",
    "import pandas as pd\n",
    "import matplotlib.pyplot as plt\n",
    "\n",
    "\n",
    "# Customize Matplotlib styles\n",
    "plt.style.use(['dark_background'])"
   ]
  },
  {
   "cell_type": "markdown",
   "metadata": {},
   "source": [
    "### Database setup."
   ]
  },
  {
   "cell_type": "code",
   "execution_count": 4,
   "metadata": {
    "collapsed": false
   },
   "outputs": [
    {
     "data": {
      "text/plain": [
       "'Connected: mhcpkrfcznzfwq@ddbt5r9q62hbbl'"
      ]
     },
     "execution_count": 4,
     "metadata": {},
     "output_type": "execute_result"
    }
   ],
   "source": [
    "# Database Constants\n",
    "DB_CRED = os.getenv('DB_CRED', '')\n",
    "DB_PATH = os.getenv('DB_PATH', '')\n",
    "DB_FULL_PATH = 'postgres://{cred}{path}'.format(cred=DB_CRED, path=DB_PATH)\n",
    "%sql $DB_FULL_PATH"
   ]
  },
  {
   "cell_type": "code",
   "execution_count": 5,
   "metadata": {
    "collapsed": false
   },
   "outputs": [],
   "source": [
    "# Create engine, connection & metadata object.\n",
    "engine = create_engine(DB_FULL_PATH)\n",
    "connection = Connection(engine).connect()\n",
    "metadata = MetaData()"
   ]
  },
  {
   "cell_type": "markdown",
   "metadata": {},
   "source": [
    "### Display database tables."
   ]
  },
  {
   "cell_type": "code",
   "execution_count": 6,
   "metadata": {
    "collapsed": false
   },
   "outputs": [
    {
     "name": "stdout",
     "output_type": "stream",
     "text": [
      "['alembic_version', 'account', 'host', 'time', 'host_time']\n"
     ]
    }
   ],
   "source": [
    "print(engine.table_names())"
   ]
  },
  {
   "cell_type": "markdown",
   "metadata": {},
   "source": [
    "### Reflect database."
   ]
  },
  {
   "cell_type": "code",
   "execution_count": 7,
   "metadata": {
    "collapsed": true
   },
   "outputs": [],
   "source": [
    "# Reflect all of the tables.\n",
    "time = Table('time', metadata, autoload=True, autoload_with=engine)\n",
    "host = Table('host', metadata, autoload=True, autoload_with=engine)\n",
    "account = Table('account', metadata, autoload=True, autoload_with=engine)\n",
    "host_time = Table('host_time', metadata, autoload=True, autoload_with=engine)"
   ]
  },
  {
   "cell_type": "markdown",
   "metadata": {},
   "source": [
    "### Display each tables columns."
   ]
  },
  {
   "cell_type": "code",
   "execution_count": 8,
   "metadata": {
    "collapsed": false
   },
   "outputs": [
    {
     "name": "stdout",
     "output_type": "stream",
     "text": [
      "Print out each table columns:\n",
      "time table:      ['time.id', 'time.day', 'time.seconds', 'time.account_id']\n",
      "host table:      ['host.id', 'host.host_name']\n",
      "account table:   ['account.id', 'account.token']\n",
      "host_time table: ['host_time.time_id', 'host_time.host_id']\n"
     ]
    }
   ],
   "source": [
    "# Print each tables columns.\n",
    "print('Print out each table columns:')\n",
    "print('time table:      {columns}'.format(columns=time.columns))\n",
    "print('host table:      {columns}'.format(columns=host.columns))\n",
    "print('account table:   {columns}'.format(columns=account.columns))\n",
    "print('host_time table: {columns}'.format(columns=host_time.columns))"
   ]
  },
  {
   "cell_type": "markdown",
   "metadata": {},
   "source": [
    "### Get top 5 users based on most time spent."
   ]
  },
  {
   "cell_type": "code",
   "execution_count": 9,
   "metadata": {
    "collapsed": false
   },
   "outputs": [
    {
     "name": "stdout",
     "output_type": "stream",
     "text": [
      "5 rows affected.\n"
     ]
    },
    {
     "data": {
      "text/html": [
       "<table>\n",
       "    <tr>\n",
       "        <th>users</th>\n",
       "        <th>seconds</th>\n",
       "    </tr>\n",
       "    <tr>\n",
       "        <td>1</td>\n",
       "        <td>737814</td>\n",
       "    </tr>\n",
       "    <tr>\n",
       "        <td>2</td>\n",
       "        <td>465128</td>\n",
       "    </tr>\n",
       "    <tr>\n",
       "        <td>5</td>\n",
       "        <td>370996</td>\n",
       "    </tr>\n",
       "    <tr>\n",
       "        <td>4</td>\n",
       "        <td>32880</td>\n",
       "    </tr>\n",
       "    <tr>\n",
       "        <td>3</td>\n",
       "        <td>6786</td>\n",
       "    </tr>\n",
       "</table>"
      ],
      "text/plain": [
       "[(1, Decimal('737814')),\n",
       " (2, Decimal('465128')),\n",
       " (5, Decimal('370996')),\n",
       " (4, Decimal('32880')),\n",
       " (3, Decimal('6786'))]"
      ]
     },
     "execution_count": 9,
     "metadata": {},
     "output_type": "execute_result"
    }
   ],
   "source": [
    "%%sql \n",
    "SELECT account.id as users, sum(time.seconds) as seconds FROM account\n",
    "JOIN time on account.id = time.account_id\n",
    "GROUP BY account.id\n",
    "ORDER BY seconds DESC\n",
    "LIMIT 5"
   ]
  },
  {
   "cell_type": "markdown",
   "metadata": {},
   "source": [
    "### Query the database to get all unique visits per host name."
   ]
  },
  {
   "cell_type": "code",
   "execution_count": 11,
   "metadata": {
    "collapsed": false
   },
   "outputs": [
    {
     "name": "stdout",
     "output_type": "stream",
     "text": [
      "44 rows affected.\n"
     ]
    },
    {
     "data": {
      "text/html": [
       "<table>\n",
       "    <tr>\n",
       "        <th>websites</th>\n",
       "        <th>total visits</th>\n",
       "    </tr>\n",
       "    <tr>\n",
       "        <td>newtab</td>\n",
       "        <td>1385</td>\n",
       "    </tr>\n",
       "    <tr>\n",
       "        <td>google.com</td>\n",
       "        <td>1079</td>\n",
       "    </tr>\n",
       "    <tr>\n",
       "        <td>localhost</td>\n",
       "        <td>810</td>\n",
       "    </tr>\n",
       "    <tr>\n",
       "        <td>docs.google.com</td>\n",
       "        <td>679</td>\n",
       "    </tr>\n",
       "    <tr>\n",
       "        <td>mail.google.com</td>\n",
       "        <td>339</td>\n",
       "    </tr>\n",
       "</table>"
      ],
      "text/plain": [
       "[('newtab', 1385),\n",
       " ('google.com', 1079),\n",
       " ('localhost', 810),\n",
       " ('docs.google.com', 679),\n",
       " ('mail.google.com', 339)]"
      ]
     },
     "execution_count": 11,
     "metadata": {},
     "output_type": "execute_result"
    }
   ],
   "source": [
    "%%sql\n",
    "SELECT host.host_name as \"websites\", count(host.host_name) as \"total visits\" from host\n",
    "JOIN host_time on host.id = host_time.host_id\n",
    "GROUP BY host.host_name\n",
    "HAVING count(host.host_name) > 25\n",
    "ORDER BY \"total visits\" DESC"
   ]
  },
  {
   "cell_type": "markdown",
   "metadata": {},
   "source": [
    "### Create DataFrame from sql query results."
   ]
  },
  {
   "cell_type": "code",
   "execution_count": 13,
   "metadata": {
    "collapsed": false
   },
   "outputs": [],
   "source": [
    "results = _\n",
    "df = pd.DataFrame(data=results, columns=results.keys)\n",
    "df = df.set_index('websites')"
   ]
  },
  {
   "cell_type": "markdown",
   "metadata": {},
   "source": [
    "### Create graph showing top 5 websites visited."
   ]
  },
  {
   "cell_type": "code",
   "execution_count": 14,
   "metadata": {
    "collapsed": false
   },
   "outputs": [
    {
     "data": {
      "text/plain": [
       "<matplotlib.axes._subplots.AxesSubplot at 0x109cf2cc0>"
      ]
     },
     "execution_count": 14,
     "metadata": {},
     "output_type": "execute_result"
    },
    {
     "data": {
      "image/png": "[encoded data removed]",
      "text/plain": [
       "<matplotlib.figure.Figure at 0x109ff3588>"
      ]
     },
     "metadata": {},
     "output_type": "display_data"
    }
   ],
   "source": [
    "df[:5].plot(kind='barh', alpha=0.75)"
   ]
  },
  {
   "cell_type": "markdown",
   "metadata": {},
   "source": [
    "### Create a pie chart to display data differently."
   ]
  },
  {
   "cell_type": "code",
   "execution_count": 16,
   "metadata": {
    "collapsed": false
   },
   "outputs": [
    {
     "data": {
      "text/plain": [
       "([<matplotlib.patches.Wedge at 0x10a1804a8>,\n",
       "  <matplotlib.patches.Wedge at 0x10a443f28>,\n",
       "  <matplotlib.patches.Wedge at 0x10a44f160>,\n",
       "  <matplotlib.patches.Wedge at 0x10a4554a8>,\n",
       "  <matplotlib.patches.Wedge at 0x10a45c7f0>],\n",
       " [<matplotlib.text.Text at 0x10a4439e8>,\n",
       "  <matplotlib.text.Text at 0x10a449be0>,\n",
       "  <matplotlib.text.Text at 0x10a44ff28>,\n",
       "  <matplotlib.text.Text at 0x10a45c2b0>,\n",
       "  <matplotlib.text.Text at 0x10a4625f8>])"
      ]
     },
     "execution_count": 16,
     "metadata": {},
     "output_type": "execute_result"
    },
    {
     "data": {
      "image/png": "[encoded data removed]",
      "text/plain": [
       "<matplotlib.figure.Figure at 0x10a180588>"
      ]
     },
     "metadata": {},
     "output_type": "display_data"
    }
   ],
   "source": [
    "top_5_host_names = df.index[:5].values\n",
    "\n",
    "# Math to get proper percentages.\n",
    "arr_total_visits = np.array(df['total visits'][:5].values)\n",
    "sum_total_visits = np.sum(arr_total_visits)\n",
    "arr_total_percen = arr_total_visits / sum_total_visits * 100\n",
    "\n",
    "# Options.\n",
    "explode = (0.1, 0, 0, 0, 0)\n",
    "plt.axis('equal')\n",
    "\n",
    "plt.pie(x=arr_total_percen, explode=explode, labels=top_5_host_names, shadow=True, startangle=90)"
   ]
  },
  {
   "cell_type": "code",
   "execution_count": null,
   "metadata": {
    "collapsed": true
   },
   "outputs": [],
   "source": []
  }
 ],
 "metadata": {
  "kernelspec": {
   "display_name": "Python 3",
   "language": "python",
   "name": "python3"
  },
  "language_info": {
   "codemirror_mode": {
    "name": "ipython",
    "version": 3
   },
   "file_extension": ".py",
   "mimetype": "text/x-python",
   "name": "python",
   "nbconvert_exporter": "python",
   "pygments_lexer": "ipython3",
   "version": "3.5.2"
  }
 },
 "nbformat": 4,
 "nbformat_minor": 0
}
