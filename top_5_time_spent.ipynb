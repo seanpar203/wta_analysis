{
 "cells": [
  {
   "cell_type": "markdown",
   "metadata": {
    "collapsed": true
   },
   "source": [
    "## Get the top 5 users with the most time spent on the web."
   ]
  },
  {
   "cell_type": "code",
   "execution_count": 3,
   "metadata": {
    "collapsed": true
   },
   "outputs": [],
   "source": [
    "%matplotlib inline\n",
    "%load_ext sql"
   ]
  },
  {
   "cell_type": "code",
   "execution_count": 3,
   "metadata": {
    "collapsed": true
   },
   "outputs": [],
   "source": [
    "import os\n",
    "\n",
    "# sqlalchemy Imports\n",
    "from sqlalchemy import (\n",
    "    create_engine, MetaData, Table, select\n",
    ")\n",
    "from sqlalchemy.sql import func, desc\n",
    "from sqlalchemy.engine import Connection\n",
    "from sqlalchemy.sql.expression import join\n",
    "\n",
    "# Graphing Imports\n",
    "import pandas as pd\n",
    "import matplotlib.pyplot as plt"
   ]
  },
  {
   "cell_type": "markdown",
   "metadata": {},
   "source": [
    "### Database setup."
   ]
  },
  {
   "cell_type": "code",
   "execution_count": 5,
   "metadata": {
    "collapsed": true
   },
   "outputs": [],
   "source": [
    "# Database Constants\n",
    "DB_CRED = os.getenv('DB_CRED', '')\n",
    "DB_PATH = os.getenv('DB_PATH', '')\n",
    "DB_FULL_PATH = 'postgres://{cred}{path}'.format(cred=DB_CRED, path=DB_PATH)"
   ]
  },
  {
   "cell_type": "code",
   "execution_count": 7,
   "metadata": {
    "collapsed": false
   },
   "outputs": [],
   "source": [
    "# Create engine, connection & metadata object.\n",
    "engine = create_engine(DB_FULL_PATH)\n",
    "connection = Connection(engine).connect()\n",
    "metadata = MetaData()"
   ]
  },
  {
   "cell_type": "markdown",
   "metadata": {},
   "source": [
    "### Display database tables."
   ]
  },
  {
   "cell_type": "code",
   "execution_count": 8,
   "metadata": {
    "collapsed": false
   },
   "outputs": [
    {
     "name": "stdout",
     "output_type": "stream",
     "text": [
      "['alembic_version', 'account', 'host', 'time', 'host_time']\n"
     ]
    }
   ],
   "source": [
    "print(engine.table_names())"
   ]
  },
  {
   "cell_type": "markdown",
   "metadata": {},
   "source": [
    "### Reflect database."
   ]
  },
  {
   "cell_type": "code",
   "execution_count": 9,
   "metadata": {
    "collapsed": true
   },
   "outputs": [],
   "source": [
    "# Reflect all of the tables.\n",
    "time = Table('time', metadata, autoload=True, autoload_with=engine)\n",
    "host = Table('host', metadata, autoload=True, autoload_with=engine)\n",
    "account = Table('account', metadata, autoload=True, autoload_with=engine)\n",
    "host_time = Table('host_time', metadata, autoload=True, autoload_with=engine)"
   ]
  },
  {
   "cell_type": "markdown",
   "metadata": {},
   "source": [
    "### Display each tables columns."
   ]
  },
  {
   "cell_type": "code",
   "execution_count": 10,
   "metadata": {
    "collapsed": false
   },
   "outputs": [
    {
     "name": "stdout",
     "output_type": "stream",
     "text": [
      "Print out each table columns:\n",
      "time table:      ['time.id', 'time.day', 'time.seconds', 'time.account_id']\n",
      "host table:      ['host.id', 'host.host_name']\n",
      "account table:   ['account.id', 'account.token']\n",
      "host_time table: ['host_time.time_id', 'host_time.host_id']\n"
     ]
    }
   ],
   "source": [
    "# Print each tables columns.\n",
    "print('Print out each table columns:')\n",
    "print('time table:      {columns}'.format(columns=time.columns))\n",
    "print('host table:      {columns}'.format(columns=host.columns))\n",
    "print('account table:   {columns}'.format(columns=account.columns))\n",
    "print('host_time table: {columns}'.format(columns=host_time.columns))"
   ]
  },
  {
   "cell_type": "code",
   "execution_count": null,
   "metadata": {
    "collapsed": true
   },
   "outputs": [],
   "source": []
  }
 ],
 "metadata": {
  "kernelspec": {
   "display_name": "Python 3",
   "language": "python",
   "name": "python3"
  },
  "language_info": {
   "codemirror_mode": {
    "name": "ipython",
    "version": 3
   },
   "file_extension": ".py",
   "mimetype": "text/x-python",
   "name": "python",
   "nbconvert_exporter": "python",
   "pygments_lexer": "ipython3",
   "version": "3.5.2"
  }
 },
 "nbformat": 4,
 "nbformat_minor": 0
}
