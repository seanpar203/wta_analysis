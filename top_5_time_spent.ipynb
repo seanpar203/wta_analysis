{
 "cells": [
  {
   "cell_type": "markdown",
   "metadata": {
    "collapsed": true
   },
   "source": [
    "## Get the top 5 users with the most time spent on the web."
   ]
  },
  {
   "cell_type": "code",
   "execution_count": 1,
   "metadata": {
    "collapsed": false
   },
   "outputs": [],
   "source": [
    "%matplotlib inline\n",
    "%load_ext sql\n"
   ]
  },
  {
   "cell_type": "code",
   "execution_count": 2,
   "metadata": {
    "collapsed": true
   },
   "outputs": [],
   "source": [
    "import os\n",
    "\n",
    "# sqlalchemy Imports\n",
    "from sqlalchemy import (\n",
    "    create_engine, MetaData, Table, select\n",
    ")\n",
    "from sqlalchemy.sql import func, desc\n",
    "from sqlalchemy.engine import Connection\n",
    "from sqlalchemy.sql.expression import join\n",
    "\n",
    "# Graphing Imports\n",
    "import numpy as np\n",
    "import pandas as pd\n",
    "import matplotlib.pyplot as plt\n",
    "\n",
    "\n",
    "# Customize Matplotlib styles\n",
    "plt.style.use(['dark_background', 'seaborn-pastel'])"
   ]
  },
  {
   "cell_type": "markdown",
   "metadata": {},
   "source": [
    "### Database setup."
   ]
  },
  {
   "cell_type": "code",
   "execution_count": 3,
   "metadata": {
    "collapsed": false
   },
   "outputs": [
    {
     "data": {
      "text/plain": [
       "'Connected: mhcpkrfcznzfwq@ddbt5r9q62hbbl'"
      ]
     },
     "execution_count": 3,
     "metadata": {},
     "output_type": "execute_result"
    }
   ],
   "source": [
    "# Database Constants\n",
    "DB_CRED = os.getenv('DB_CRED', '')\n",
    "DB_PATH = os.getenv('DB_PATH', '')\n",
    "DB_FULL_PATH = 'postgres://{cred}{path}'.format(cred=DB_CRED, path=DB_PATH)\n",
    "%sql $DB_FULL_PATH"
   ]
  },
  {
   "cell_type": "code",
   "execution_count": 4,
   "metadata": {
    "collapsed": false
   },
   "outputs": [],
   "source": [
    "# Create engine, connection & metadata object.\n",
    "engine = create_engine(DB_FULL_PATH)\n",
    "connection = Connection(engine).connect()\n",
    "metadata = MetaData()"
   ]
  },
  {
   "cell_type": "markdown",
   "metadata": {},
   "source": [
    "### Display database tables."
   ]
  },
  {
   "cell_type": "code",
   "execution_count": 5,
   "metadata": {
    "collapsed": false
   },
   "outputs": [
    {
     "name": "stdout",
     "output_type": "stream",
     "text": [
      "['alembic_version', 'account', 'host', 'time', 'host_time']\n"
     ]
    }
   ],
   "source": [
    "print(engine.table_names())"
   ]
  },
  {
   "cell_type": "markdown",
   "metadata": {},
   "source": [
    "### Reflect database."
   ]
  },
  {
   "cell_type": "code",
   "execution_count": 6,
   "metadata": {
    "collapsed": true
   },
   "outputs": [],
   "source": [
    "# Reflect all of the tables.\n",
    "time = Table('time', metadata, autoload=True, autoload_with=engine)\n",
    "host = Table('host', metadata, autoload=True, autoload_with=engine)\n",
    "account = Table('account', metadata, autoload=True, autoload_with=engine)\n",
    "host_time = Table('host_time', metadata, autoload=True, autoload_with=engine)"
   ]
  },
  {
   "cell_type": "markdown",
   "metadata": {},
   "source": [
    "### Display each tables columns."
   ]
  },
  {
   "cell_type": "code",
   "execution_count": 7,
   "metadata": {
    "collapsed": false
   },
   "outputs": [
    {
     "name": "stdout",
     "output_type": "stream",
     "text": [
      "Print out each table columns:\n",
      "time table:      ['time.id', 'time.day', 'time.seconds', 'time.account_id']\n",
      "host table:      ['host.id', 'host.host_name']\n",
      "account table:   ['account.id', 'account.token']\n",
      "host_time table: ['host_time.time_id', 'host_time.host_id']\n"
     ]
    }
   ],
   "source": [
    "# Print each tables columns.\n",
    "print('Print out each table columns:')\n",
    "print('time table:      {columns}'.format(columns=time.columns))\n",
    "print('host table:      {columns}'.format(columns=host.columns))\n",
    "print('account table:   {columns}'.format(columns=account.columns))\n",
    "print('host_time table: {columns}'.format(columns=host_time.columns))"
   ]
  },
  {
   "cell_type": "markdown",
   "metadata": {},
   "source": [
    "### Get top 5 users based on most time spent."
   ]
  },
  {
   "cell_type": "code",
   "execution_count": 8,
   "metadata": {
    "collapsed": false
   },
   "outputs": [
    {
     "name": "stdout",
     "output_type": "stream",
     "text": [
      "5 rows affected.\n"
     ]
    },
    {
     "data": {
      "text/html": [
       "<table>\n",
       "    <tr>\n",
       "        <th>users</th>\n",
       "        <th>seconds</th>\n",
       "    </tr>\n",
       "    <tr>\n",
       "        <td>1</td>\n",
       "        <td>737814</td>\n",
       "    </tr>\n",
       "    <tr>\n",
       "        <td>2</td>\n",
       "        <td>465128</td>\n",
       "    </tr>\n",
       "    <tr>\n",
       "        <td>5</td>\n",
       "        <td>354518</td>\n",
       "    </tr>\n",
       "    <tr>\n",
       "        <td>4</td>\n",
       "        <td>32458</td>\n",
       "    </tr>\n",
       "    <tr>\n",
       "        <td>3</td>\n",
       "        <td>6786</td>\n",
       "    </tr>\n",
       "</table>"
      ],
      "text/plain": [
       "[(1, Decimal('737814')),\n",
       " (2, Decimal('465128')),\n",
       " (5, Decimal('354518')),\n",
       " (4, Decimal('32458')),\n",
       " (3, Decimal('6786'))]"
      ]
     },
     "execution_count": 8,
     "metadata": {},
     "output_type": "execute_result"
    }
   ],
   "source": [
    "%%sql \n",
    "SELECT account.id as users, sum(time.seconds) as seconds FROM account\n",
    "JOIN time on account.id = time.account_id\n",
    "GROUP BY account.id\n",
    "ORDER BY seconds DESC\n",
    "LIMIT 5"
   ]
  },
  {
   "cell_type": "markdown",
   "metadata": {},
   "source": [
    "### Query the database to get all unique visits per host name."
   ]
  },
  {
   "cell_type": "code",
   "execution_count": 9,
   "metadata": {
    "collapsed": false
   },
   "outputs": [
    {
     "name": "stdout",
     "output_type": "stream",
     "text": [
      "44 rows affected.\n"
     ]
    },
    {
     "data": {
      "text/html": [
       "<table>\n",
       "    <tr>\n",
       "        <th>host_name</th>\n",
       "        <th>total_visits</th>\n",
       "    </tr>\n",
       "    <tr>\n",
       "        <td>newtab</td>\n",
       "        <td>1384</td>\n",
       "    </tr>\n",
       "    <tr>\n",
       "        <td>google.com</td>\n",
       "        <td>1075</td>\n",
       "    </tr>\n",
       "    <tr>\n",
       "        <td>localhost</td>\n",
       "        <td>810</td>\n",
       "    </tr>\n",
       "    <tr>\n",
       "        <td>docs.google.com</td>\n",
       "        <td>678</td>\n",
       "    </tr>\n",
       "    <tr>\n",
       "        <td>mail.google.com</td>\n",
       "        <td>339</td>\n",
       "    </tr>\n",
       "    <tr>\n",
       "        <td>github.com</td>\n",
       "        <td>334</td>\n",
       "    </tr>\n",
       "    <tr>\n",
       "        <td>facebook.com</td>\n",
       "        <td>327</td>\n",
       "    </tr>\n",
       "    <tr>\n",
       "        <td>youtube.com</td>\n",
       "        <td>308</td>\n",
       "    </tr>\n",
       "    <tr>\n",
       "        <td>stackoverflow.com</td>\n",
       "        <td>201</td>\n",
       "    </tr>\n",
       "    <tr>\n",
       "        <td>pandora.com</td>\n",
       "        <td>115</td>\n",
       "    </tr>\n",
       "    <tr>\n",
       "        <td>searchincognito.com</td>\n",
       "        <td>104</td>\n",
       "    </tr>\n",
       "    <tr>\n",
       "        <td>vuejs.org</td>\n",
       "        <td>91</td>\n",
       "    </tr>\n",
       "    <tr>\n",
       "        <td>finance.yahoo.com</td>\n",
       "        <td>89</td>\n",
       "    </tr>\n",
       "    <tr>\n",
       "        <td>/Volumes</td>\n",
       "        <td>86</td>\n",
       "    </tr>\n",
       "    <tr>\n",
       "        <td>la.instructure.com</td>\n",
       "        <td>86</td>\n",
       "    </tr>\n",
       "    <tr>\n",
       "        <td>biology.arizona.edu</td>\n",
       "        <td>76</td>\n",
       "    </tr>\n",
       "    <tr>\n",
       "        <td>zillow.com</td>\n",
       "        <td>72</td>\n",
       "    </tr>\n",
       "    <tr>\n",
       "        <td>bmhjcloccoanchboaimjnpeafjnoghfi</td>\n",
       "        <td>68</td>\n",
       "    </tr>\n",
       "    <tr>\n",
       "        <td>speechanddebate.org</td>\n",
       "        <td>66</td>\n",
       "    </tr>\n",
       "    <tr>\n",
       "        <td>classroom.google.com</td>\n",
       "        <td>66</td>\n",
       "    </tr>\n",
       "    <tr>\n",
       "        <td>chrome.google.com</td>\n",
       "        <td>52</td>\n",
       "    </tr>\n",
       "    <tr>\n",
       "        <td>linkedin.com</td>\n",
       "        <td>51</td>\n",
       "    </tr>\n",
       "    <tr>\n",
       "        <td>bloomberg.com</td>\n",
       "        <td>48</td>\n",
       "    </tr>\n",
       "    <tr>\n",
       "        <td>battleship-app-prod.herokuapp.com</td>\n",
       "        <td>47</td>\n",
       "    </tr>\n",
       "    <tr>\n",
       "        <td>drive.google.com</td>\n",
       "        <td>46</td>\n",
       "    </tr>\n",
       "    <tr>\n",
       "        <td>cia.gov</td>\n",
       "        <td>44</td>\n",
       "    </tr>\n",
       "    <tr>\n",
       "        <td>bpb.opendns.com</td>\n",
       "        <td>42</td>\n",
       "    </tr>\n",
       "    <tr>\n",
       "        <td>getbootstrap.com</td>\n",
       "        <td>41</td>\n",
       "    </tr>\n",
       "    <tr>\n",
       "        <td>ko.wikipedia.org</td>\n",
       "        <td>41</td>\n",
       "    </tr>\n",
       "    <tr>\n",
       "        <td>greensock.com</td>\n",
       "        <td>40</td>\n",
       "    </tr>\n",
       "    <tr>\n",
       "        <td>olui2.fs.ml.com</td>\n",
       "        <td>39</td>\n",
       "    </tr>\n",
       "    <tr>\n",
       "        <td>namu.wiki</td>\n",
       "        <td>35</td>\n",
       "    </tr>\n",
       "    <tr>\n",
       "        <td>en.wikipedia.org</td>\n",
       "        <td>35</td>\n",
       "    </tr>\n",
       "    <tr>\n",
       "        <td>lodash.com</td>\n",
       "        <td>32</td>\n",
       "    </tr>\n",
       "    <tr>\n",
       "        <td>search.mysearch.com</td>\n",
       "        <td>32</td>\n",
       "    </tr>\n",
       "    <tr>\n",
       "        <td>chat.stackoverflow.com</td>\n",
       "        <td>31</td>\n",
       "    </tr>\n",
       "    <tr>\n",
       "        <td>translate.google.com</td>\n",
       "        <td>31</td>\n",
       "    </tr>\n",
       "    <tr>\n",
       "        <td>ziprecruiter.com</td>\n",
       "        <td>31</td>\n",
       "    </tr>\n",
       "    <tr>\n",
       "        <td>/Users</td>\n",
       "        <td>31</td>\n",
       "    </tr>\n",
       "    <tr>\n",
       "        <td>aohghmighlieiainnegkcijnfilokake</td>\n",
       "        <td>30</td>\n",
       "    </tr>\n",
       "    <tr>\n",
       "        <td>hac.midlandps.org</td>\n",
       "        <td>29</td>\n",
       "    </tr>\n",
       "    <tr>\n",
       "        <td>ushud.com</td>\n",
       "        <td>27</td>\n",
       "    </tr>\n",
       "    <tr>\n",
       "        <td>rapidtables.com</td>\n",
       "        <td>27</td>\n",
       "    </tr>\n",
       "    <tr>\n",
       "        <td>airbnb.com</td>\n",
       "        <td>27</td>\n",
       "    </tr>\n",
       "</table>"
      ],
      "text/plain": [
       "[('newtab', 1384),\n",
       " ('google.com', 1075),\n",
       " ('localhost', 810),\n",
       " ('docs.google.com', 678),\n",
       " ('mail.google.com', 339),\n",
       " ('github.com', 334),\n",
       " ('facebook.com', 327),\n",
       " ('youtube.com', 308),\n",
       " ('stackoverflow.com', 201),\n",
       " ('pandora.com', 115),\n",
       " ('searchincognito.com', 104),\n",
       " ('vuejs.org', 91),\n",
       " ('finance.yahoo.com', 89),\n",
       " ('/Volumes', 86),\n",
       " ('la.instructure.com', 86),\n",
       " ('biology.arizona.edu', 76),\n",
       " ('zillow.com', 72),\n",
       " ('bmhjcloccoanchboaimjnpeafjnoghfi', 68),\n",
       " ('speechanddebate.org', 66),\n",
       " ('classroom.google.com', 66),\n",
       " ('chrome.google.com', 52),\n",
       " ('linkedin.com', 51),\n",
       " ('bloomberg.com', 48),\n",
       " ('battleship-app-prod.herokuapp.com', 47),\n",
       " ('drive.google.com', 46),\n",
       " ('cia.gov', 44),\n",
       " ('bpb.opendns.com', 42),\n",
       " ('getbootstrap.com', 41),\n",
       " ('ko.wikipedia.org', 41),\n",
       " ('greensock.com', 40),\n",
       " ('olui2.fs.ml.com', 39),\n",
       " ('namu.wiki', 35),\n",
       " ('en.wikipedia.org', 35),\n",
       " ('lodash.com', 32),\n",
       " ('search.mysearch.com', 32),\n",
       " ('chat.stackoverflow.com', 31),\n",
       " ('translate.google.com', 31),\n",
       " ('ziprecruiter.com', 31),\n",
       " ('/Users', 31),\n",
       " ('aohghmighlieiainnegkcijnfilokake', 30),\n",
       " ('hac.midlandps.org', 29),\n",
       " ('ushud.com', 27),\n",
       " ('rapidtables.com', 27),\n",
       " ('airbnb.com', 27)]"
      ]
     },
     "execution_count": 9,
     "metadata": {},
     "output_type": "execute_result"
    }
   ],
   "source": [
    "%%sql\n",
    "SELECT host.host_name, count(host.host_name) as total_visits from host\n",
    "JOIN host_time on host.id = host_time.host_id\n",
    "GROUP BY host.host_name\n",
    "HAVING count(host.host_name) > 25\n",
    "ORDER BY total_visits DESC"
   ]
  },
  {
   "cell_type": "markdown",
   "metadata": {},
   "source": [
    "### Create DataFrame from sql query results."
   ]
  },
  {
   "cell_type": "code",
   "execution_count": 15,
   "metadata": {
    "collapsed": false
   },
   "outputs": [
    {
     "data": {
      "text/plain": [
       "<matplotlib.axes._subplots.AxesSubplot at 0x108ec2198>"
      ]
     },
     "execution_count": 15,
     "metadata": {},
     "output_type": "execute_result"
    },
    {
     "data": {
      "image/png": "[encoded data removed]",
      "text/plain": [
       "<matplotlib.figure.Figure at 0x108e6fa20>"
      ]
     },
     "metadata": {},
     "output_type": "display_data"
    }
   ],
   "source": [
    "results = _\n",
    "df = pd.DataFrame(data=result, columns=results.keys)\n",
    "df.plot(figsize=(15, 10))"
   ]
  },
  {
   "cell_type": "code",
   "execution_count": null,
   "metadata": {
    "collapsed": true
   },
   "outputs": [],
   "source": []
  }
 ],
 "metadata": {
  "kernelspec": {
   "display_name": "Python 3",
   "language": "python",
   "name": "python3"
  },
  "language_info": {
   "codemirror_mode": {
    "name": "ipython",
    "version": 3
   },
   "file_extension": ".py",
   "mimetype": "text/x-python",
   "name": "python",
   "nbconvert_exporter": "python",
   "pygments_lexer": "ipython3",
   "version": "3.5.2"
  }
 },
 "nbformat": 4,
 "nbformat_minor": 0
}
